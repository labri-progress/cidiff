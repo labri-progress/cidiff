{
 "cells": [
  {
   "cell_type": "code",
   "execution_count": null,
   "id": "initial_id",
   "metadata": {
    "collapsed": true
   },
   "outputs": [],
   "source": [
    "# Imports\n",
    "import matplotlib.pyplot as plt\n",
    "import numpy as np\n",
    "import pandas as pd\n",
    "import seaborn as sns\n",
    "# Disable pandas limiting line length when printing\n",
    "pd.set_option('display.max_colwidth', 100)\n",
    "pd.set_option('display.width', 1000)\n",
    "# Read data\n",
    "data = pd.read_csv(f\"../build/reports/benchmark.csv\", sep=',')\n",
    "data['moved'] = data[\"moved-unchanged\"] + data['moved-updated']"
   ]
  },
  {
   "cell_type": "code",
   "execution_count": null,
   "id": "1908e7ee2ed51e65",
   "metadata": {
    "collapsed": false
   },
   "outputs": [],
   "source": [
    "# Actions\n",
    "pivoted = data.pivot(index='directory', columns=\"type\", values=\"actions\").reset_index()\n",
    "pivoted['seed-diff'] = (pivoted['lcs'] - pivoted['seed']) / pivoted['lcs']\n",
    "pivoted['seed-even-diff'] = (pivoted['lcs'] - pivoted['seed-even']) / pivoted['lcs']\n",
    "\n",
    "plt.figure(figsize=(10,10))\n",
    "plt.ylabel('Actions')\n",
    "plt.xticks([0, 1], ['seed', 'seed-even'])\n",
    "sns.stripplot(data=pivoted, y='seed-diff', x=1, color=\"#fc6b0366\", s=6)\n",
    "sns.boxplot(data=pivoted, y='seed-diff', x=1, whis=(0, 100))\n",
    "sns.stripplot(data=pivoted, y='seed-even-diff', x=2, color=\"#038cfc66\", s=6)\n",
    "_=sns.boxplot(data=pivoted, y='seed-even-diff', x=2, whis=(0, 100))\n",
    "\n",
    "# positive = seed is better (because lcs-seed)\n",
    "# negative = lcs is better (because lcs-seed)"
   ]
  },
  {
   "cell_type": "code",
   "execution_count": null,
   "outputs": [],
   "source": [
    "# Durations\n",
    "pivoted = data.pivot(index='directory', columns=\"type\", values=\"duration\").reset_index()\n",
    "pivoted['seed-diff'] = (pivoted['lcs'] - pivoted['seed']) / pivoted['lcs']\n",
    "pivoted['seed-even-diff'] = (pivoted['lcs'] - pivoted['seed-even']) / pivoted['lcs']\n",
    "\n",
    "plt.figure(figsize=(10,10))\n",
    "plt.ylabel('Duration')\n",
    "plt.xticks([0, 1], ['seed', 'seed-even'])\n",
    "\n",
    "# Hiding outliers\n",
    "sns.boxplot(data=pivoted, y='seed-diff', x=1, showfliers=False)\n",
    "_=sns.boxplot(data=pivoted, y='seed-even-diff', x=2, showfliers=False)\n",
    "# Disabling outliers\n",
    "# sns.boxplot(data=pivoted, y='seed-diff', x=1, whis=(0, 100))\n",
    "# _=sns.boxplot(data=pivoted, y='seed-even-diff', x=2, whis=(0, 100))\n",
    "\n",
    "# positive = seed is better (because lcs-seed)\n",
    "# negative = lcs is better (because lcs-seed)"
   ],
   "metadata": {
    "collapsed": false
   },
   "id": "16a4f33a65382c2c"
  },
  {
   "cell_type": "code",
   "execution_count": 121,
   "outputs": [
    {
     "name": "stdout",
     "output_type": "stream",
     "text": [
      "type                                                                                            directory    lcs   seed  seed-even  seed-diff  seed-even-diff\n",
      "140   IBMa/equal-access/1848b40504fa8627423c26dc2d31a318ab63cdaa/All branch testing/karma-accessibilit...   1763   1763       1763          0               0\n",
      "176   IBMa/equal-access/7c0979a9ba77ff8bda56afb6431f4b075bf82487/All branch testing/karma-accessibilit...   1805   1805       1805          0               0\n",
      "179   IBMa/equal-access/8bc30a90c8133ed3aa65b65a099ddc6a12a26e0f/All branch testing/karma-accessibilit...   1730   1730       1730          0               0\n",
      "180   IBMa/equal-access/8d50e06f331b2e9525edc48645534d2af438a831/All branch testing/karma-accessibilit...   1616   1616       1616          0               0\n",
      "191   IBMa/equal-access/e09de0bc6c056ab37e2b658e39a2d174e0bcf772/All branch testing/karma-accessibilit...   1360   1360       1360          0               0\n",
      "279   SixLabors/ImageSharp/7d0838f97ca19e8c4d0aa3fdd9157238e6acbcdc/Build/Build (windows-latest, net7....   1386   1386       1386          0               0\n",
      "293   SixLabors/ImageSharp/f4e3f3a90676327c18e4e4d9354ebd94435e28ed/Build/Build (ubuntu-latest, net7.0...    792    792        792          0               0\n",
      "312   WordPress/openverse-api/5b6f97b3ae1413862a3817dc1cacf47fe713ac7b/CI + CD/Run tests for ingestion...   1081   1081       1081          0               0\n",
      "345                  api-platform/core/ecce956eb50ae8623cc4002bfc442a09e06d88cf/CI/PHP-cs-fixer (PHP 8.1)   1302   1302       1302          0               0\n",
      "463                           ceckak/exult/05338a435ff3b7d3186b344b807e635cc18436fa/ci-windows/ci-windows   1227   1227       1227          0               0\n",
      "465                         ceckak/exult/6b5cf403985f791e61efec7973fb0b280376ce8b/ci-linux/ci-linux (gcc)   2848   2848       2848          0               0\n",
      "478                     chef/chef/61ef22ab61a4492be8a68500cc37f8f6724b9f0f/kitchen/windows (windows-2019)   2122   2122       2122          0               0\n",
      "551            discourse/discourse/a4fc88ce68341bcb8928383a681299d1a8da0e50/Tests/plugins frontend-legacy   8376   8376       8376          0               0\n",
      "624   fluent/fluentd/71f6fb3cca8efefc22e8468a79abf4a44e0afaf8/Testing on Windows/Unit testing with Rub...   5889   5889       5889          0               0\n",
      "625   fluent/fluentd/bd4782d8de1b523d73f4352d1be357f7630d158c/Testing on Windows/Unit testing with Rub...  12740  12740      12740          0               0\n",
      "626   fluent/fluentd/bd4782d8de1b523d73f4352d1be357f7630d158c/Testing on Windows/Unit testing with Rub...   5872   5872       5872          0               0\n",
      "644   fosslight/fosslight/c42016c8c4a2575118dc2c0cc645f2a822219fed/Pull requests fosslight/Unit Test R...      0      0          0          0               0\n",
      "682             kevin218/Eureka/53f4e61cecf9227c689423b13017117f1144a99d/Flake8 Linting/Flake8 violations      0      0          0          0               0\n",
      "701                           lucee/Lucee/014240e2ce75d88088b9f51793a49e5551747877/Build 5.3/Test Results      0      0          0          0               0\n",
      "707                           lucee/Lucee/c9c372d5d6137f430599edf51bb99e59dfd88d6e/Build 5.3/Test Results      0      0          0          0               0\n",
      "709                           lucee/Lucee/db7ba4fc64cc5d94e73e077a34041497fbcbf712/Build 5.3/Test Results      0      0          0          0               0\n",
      "711                     lucee/Lucee/e9c15502aeb5a47520beb6bdc7056c8a1c7eee0b/Build 6.0/Lucee Test Results      0      0          0          0               0\n",
      "715   martincostello/dotnet-minimal-api-integration-testing/d30bc19546b1bf3b9517c633e1f2fffa2bca3fed/b...    684    684        684          0               0\n",
      "754                                     mnot/thor/c328439c4984a38c6c43025bdca9d7a9058e0e3c/CI/build (3.7)    641    641        641          0               0\n",
      "769                       neoclide/coc.nvim/344002147beffd48b9de1adedb2502fd6db4a0bb/Dev/test (16, 0.7.0)   1095   1095       1095          0               0\n",
      "770               neoclide/coc.nvim/36cc9646a0ad804fc7199331511a75cc0ceb8f4b/Dev/test (ubuntu-latest, 14)   1080   1080       1080          0               0\n",
      "786               neoclide/coc.nvim/fb8bcf5376f500ea73feafb8bdf1fa6ee4f89d97/Dev/test (ubuntu-latest, 16)   1097   1097       1097          0               0\n",
      "861                             opf/openproject/021adc1dd5af2602396357d775466d43ba7834a8/Test suite/Units   6280   6280       6280          0               0\n",
      "862                          opf/openproject/093650a72560a35f1831b9a7ba5f4c13d03a1dd1/Test suite/Features   5361   5361       5361          0               0\n",
      "863                          opf/openproject/0a718585ba299a62f12285e307965b2b32da4c0a/Test suite/Features   5759   5759       5759          0               0\n",
      "864                             opf/openproject/0cdc8f0dbdedb52ee0488929dc2592bffafe9500/Test suite/Units   6036   6036       6036          0               0\n",
      "865                          opf/openproject/1d711803f1c5c6ddc082bbf360ac930754ed4c7c/Test suite/Features   5804   5804       5804          0               0\n",
      "874                             opf/openproject/6d717afed709c6d53c384f97ea3bf5ed718465da/Test suite/Units   6078   6078       6078          0               0\n",
      "875                          opf/openproject/7a535bfc90cd71a75b5eb68c55de858185863989/Test suite/Features   5769   5769       5769          0               0\n",
      "877                          opf/openproject/7be1622a0f79a4901975ef16b9f402053ea2d44a/Test suite/Features   5338   5338       5338          0               0\n",
      "878                             opf/openproject/7be1622a0f79a4901975ef16b9f402053ea2d44a/Test suite/Units   5911   5911       5911          0               0\n",
      "881                             opf/openproject/8862cdc0fd6ddb06e761f4d2ede6e7ed76bb595e/Test suite/Units   5754   5754       5754          0               0\n",
      "882                             opf/openproject/889004f64d7e4e404affef3b9b7348c9153c437f/Test suite/Units   5830   5830       5830          0               0\n",
      "883                             opf/openproject/90a6a7c77ca505ef917f685551a920107e1cf9d1/Test suite/Units   5715   5715       5715          0               0\n",
      "885                          opf/openproject/c413ee5a214e79991c76fad2d315c8f2d6ded9e3/Test suite/Features   5608   5608       5608          0               0\n",
      "891                             opf/openproject/ecf094f47fee45e9ef75d7b734122c21d8215a73/Test suite/Units   5952   5952       5952          0               0\n",
      "892                          opf/openproject/f6b875229aeb1274dfe5d25c972ea437467752cb/Test suite/Features   5613   5613       5613          0               0\n",
      "893                             opf/openproject/f923629b14ddffd310b6a12424adb30f54c3e2ae/Test suite/Units   5849   5849       5849          0               0\n",
      "952                       puppeteer/puppeteer/af92a24ba9fc8efea1ba41f96d87515cf760da65/run-checks/windows   1930   1930       1930          0               0\n",
      "1034                      scrapinghub/scrapy-poet/f47816b416c78cfa74d997ff2fb1fbdd34609072/tox/test (3.7)    433    433        433          0               0\n",
      "1035                      scrapinghub/scrapy-poet/f47816b416c78cfa74d997ff2fb1fbdd34609072/tox/test (3.9)     42     42         42          0               0\n",
      "1089                         symfony/symfony/07a5c518025ccd2ec541703365dd92ad2668f331/PHPUnit/Tests (8.1)   6200   6200       6200          0               0\n",
      "1252                             tus/tus-js-client/2ef7d2dbe41f8ce47c4127a2d0062605b8fd56b8/CI/Node.js 14   1234   1234       1234          0               0\n",
      "1253                             tus/tus-js-client/2ef7d2dbe41f8ce47c4127a2d0062605b8fd56b8/CI/Node.js 16   1236   1236       1236          0               0\n",
      "1254                             tus/tus-js-client/2ef7d2dbe41f8ce47c4127a2d0062605b8fd56b8/CI/Node.js 18   1241   1241       1241          0               0\n",
      "1281  yaneurao/YaneuraOu/793638d524e8d15d3aed2f8a48e31fb84e838386/Make CI (for MacOS)/build-macos (YAN...      0      0          0          0               0\n",
      "1282  yaneurao/YaneuraOu/a41103854eeb26a71cd3ba6d193a6172f91913bb/Make CI (DeepLearning for Windows)/b...   1323   1323       1323          0               0\n",
      "1283  yaneurao/YaneuraOu/c464565e7cb73470f8dc673e0880487750c1ec9d/Make CI (MinGW for Windows)/build-mi...      0      0          0          0               0\n"
     ]
    }
   ],
   "source": [
    "pivoted = data.pivot(index='directory', columns=\"type\", values=\"actions\").reset_index()\n",
    "pivoted['seed-diff'] = pivoted['lcs'] - pivoted['seed']\n",
    "pivoted['seed-even-diff'] = pivoted['lcs'] - pivoted['seed-even']\n",
    "\n",
    "with_zero=pivoted[pivoted['seed-diff'] == 0]\n",
    "\n",
    "print(with_zero)"
   ],
   "metadata": {
    "collapsed": false,
    "ExecuteTime": {
     "end_time": "2024-04-04T13:53:27.906346383Z",
     "start_time": "2024-04-04T13:53:27.660578430Z"
    }
   },
   "id": "ef871681bea1ec12"
  },
  {
   "cell_type": "code",
   "execution_count": null,
   "outputs": [],
   "source": [],
   "metadata": {
    "collapsed": false
   },
   "id": "bb57d5257505437c"
  }
 ],
 "metadata": {
  "kernelspec": {
   "display_name": "Python 3",
   "language": "python",
   "name": "python3"
  },
  "language_info": {
   "codemirror_mode": {
    "name": "ipython",
    "version": 3
   },
   "file_extension": ".py",
   "mimetype": "text/x-python",
   "name": "python",
   "nbconvert_exporter": "python",
   "pygments_lexer": "ipython3",
   "version": "3.11.2"
  }
 },
 "nbformat": 4,
 "nbformat_minor": 5
}
